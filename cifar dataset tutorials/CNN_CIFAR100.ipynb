{
 "cells": [
  {
   "cell_type": "markdown",
   "metadata": {},
   "source": [
    "# CIFAR100 的卷积神经网络训练\n",
    "\n",
    "**这个训练的过程和cifar10差不多，数据集换成了cifar100.**  \n",
    "**具体的流程我在cifar10的notebook里面有仔细介绍，可以参考。**  \n",
    "**和cifar10不一样的部分我会具体介绍**\n"
   ]
  },
  {
   "cell_type": "code",
   "execution_count": 3,
   "metadata": {
    "pycharm": {
     "is_executing": false
    }
   },
   "outputs": [],
   "source": [
    "import torch\n",
    "import torchvision\n",
    "import torchvision.transforms as transforms\n",
    "%matplotlib inline"
   ]
  },
  {
   "cell_type": "code",
   "execution_count": 4,
   "metadata": {
    "pycharm": {
     "is_executing": false
    }
   },
   "outputs": [
    {
     "name": "stdout",
     "output_type": "stream",
     "text": [
      "Files already downloaded and verified\n",
      "Files already downloaded and verified\n"
     ]
    }
   ],
   "source": [
    "transform = transforms.Compose(\n",
    "    [transforms.ToTensor(),\n",
    "     transforms.Normalize((0.5, 0.5, 0.5), (0.5, 0.5, 0.5))])\n",
    "\n",
    "trainset = torchvision.datasets.CIFAR100(root='./data(100)', train=True,\n",
    "                                        download=True, transform=transform)\n",
    "trainloader = torch.utils.data.DataLoader(trainset, batch_size=4,\n",
    "                                          shuffle=True, num_workers=2)\n",
    "\n",
    "testset = torchvision.datasets.CIFAR100(root='./data(100)', train=False,\n",
    "                                       download=True, transform=transform)\n",
    "testloader = torch.utils.data.DataLoader(testset, batch_size=4,\n",
    "                                         shuffle=False, num_workers=2)\n",
    "\n"
   ]
  },
  {
   "cell_type": "markdown",
   "metadata": {},
   "source": [
    "**注意啦！两个数据集的class map不一样**"
   ]
  },
  {
   "cell_type": "code",
   "execution_count": 5,
   "metadata": {
    "pycharm": {
     "is_executing": false
    }
   },
   "outputs": [],
   "source": [
    "classes = trainset.classes\n",
    "mapp = {v: k for k, v in trainset.class_to_idx.items()}"
   ]
  },
  {
   "cell_type": "code",
   "execution_count": 6,
   "metadata": {
    "pycharm": {
     "is_executing": false
    }
   },
   "outputs": [
    {
     "name": "stdout",
     "output_type": "stream",
     "text": [
      "willow_tree   beaver   keyboard   spider\n"
     ]
    },
    {
     "data": {
      "image/png": "[encoded data removed]",
      "text/plain": [
       "<Figure size 432x288 with 1 Axes>"
      ]
     },
     "metadata": {
      "needs_background": "light"
     },
     "output_type": "display_data"
    }
   ],
   "source": [
    "import matplotlib.pyplot as plt\n",
    "import numpy as np\n",
    "\n",
    "def imshow(img):\n",
    "    img = img / 2 + 0.5     # unnormalize\n",
    "    npimg = img.numpy()\n",
    "    plt.imshow(np.transpose(npimg, (1, 2, 0)))\n",
    "    plt.show()\n",
    "\n",
    "to_pil_image = transforms.ToPILImage()\n",
    "cnt = 0\n",
    "for images,label in trainloader:\n",
    "    if cnt>=1:      # 只显示3张图片\n",
    "        break\n",
    "    # print(label)    # 显示label\n",
    "    print('   '.join('%5s' % mapp[label[j].item()]for j in range(4)))\n",
    "    imshow(torchvision.utils.make_grid(images))\n",
    "    cnt += 1"
   ]
  },
  {
   "cell_type": "code",
   "execution_count": 7,
   "metadata": {},
   "outputs": [],
   "source": [
    "import torch.nn as nn\n",
    "import torch.nn.functional as F\n",
    "\n",
    "\n",
    "class Net(nn.Module):\n",
    "    def __init__(self):\n",
    "        super(Net, self).__init__()\n",
    "        self.conv1 = nn.Conv2d(3, 6, 5)\n",
    "        self.pool = nn.MaxPool2d(2, 2)\n",
    "        self.conv2 = nn.Conv2d(6, 16, 5)\n",
    "        self.fc1 = nn.Linear(16 * 5 * 5, 256)\n",
    "        self.fc2 = nn.Linear(256, 128)\n",
    "        self.fc3 = nn.Linear(128, 100)\n",
    "\n",
    "    def forward(self, x):\n",
    "        x = self.pool(F.relu(self.conv1(x)))\n",
    "        x = self.pool(F.relu(self.conv2(x)))\n",
    "        x = x.view(-1, 16 * 5 * 5)\n",
    "        x = F.relu(self.fc1(x))\n",
    "        x = F.relu(self.fc2(x))\n",
    "        x = self.fc3(x)\n",
    "        return x\n",
    "\n",
    "    \n",
    "    def num_flat_features(self,x):\n",
    "        size = x.size()[1:]\n",
    "        num_features = 1\n",
    "        for s in size:\n",
    "            num_features *=s\n",
    "        return  num_features\n",
    "\n",
    "net = Net()"
   ]
  },
  {
   "cell_type": "code",
   "execution_count": 8,
   "metadata": {},
   "outputs": [
    {
     "name": "stdout",
     "output_type": "stream",
     "text": [
      "Net(\n",
      "  (conv1): Conv2d(3, 6, kernel_size=(5, 5), stride=(1, 1))\n",
      "  (pool): MaxPool2d(kernel_size=2, stride=2, padding=0, dilation=1, ceil_mode=False)\n",
      "  (conv2): Conv2d(6, 16, kernel_size=(5, 5), stride=(1, 1))\n",
      "  (fc1): Linear(in_features=400, out_features=256, bias=True)\n",
      "  (fc2): Linear(in_features=256, out_features=128, bias=True)\n",
      "  (fc3): Linear(in_features=128, out_features=100, bias=True)\n",
      ")\n"
     ]
    }
   ],
   "source": [
    "print(net)"
   ]
  },
  {
   "cell_type": "code",
   "execution_count": 9,
   "metadata": {},
   "outputs": [
    {
     "name": "stdout",
     "output_type": "stream",
     "text": [
      "10\n",
      "torch.Size([6, 3, 5, 5])\n"
     ]
    }
   ],
   "source": [
    "params = list(net.parameters())\n",
    "print(len(params))\n",
    "print(params[0].size())"
   ]
  },
  {
   "cell_type": "code",
   "execution_count": 10,
   "metadata": {},
   "outputs": [],
   "source": [
    "import torch.optim as optim\n",
    "\n",
    "criterion = nn.CrossEntropyLoss()\n",
    "optimizer = optim.SGD(net.parameters(), lr=0.001, momentum=0.9)"
   ]
  },
  {
   "cell_type": "code",
   "execution_count": 12,
   "metadata": {},
   "outputs": [
    {
     "name": "stdout",
     "output_type": "stream",
     "text": [
      "[1,  2000] loss: 2.341\n",
      "[1,  4000] loss: 2.427\n",
      "[1,  6000] loss: 2.445\n",
      "[1,  8000] loss: 2.465\n",
      "[1, 10000] loss: 2.535\n",
      "[1, 12000] loss: 2.558\n",
      "[2,  2000] loss: 2.249\n",
      "[2,  4000] loss: 2.333\n",
      "[2,  6000] loss: 2.386\n",
      "[2,  8000] loss: 2.473\n",
      "[2, 10000] loss: 2.474\n",
      "[2, 12000] loss: 2.524\n",
      "[3,  2000] loss: 2.207\n",
      "[3,  4000] loss: 2.308\n",
      "[3,  6000] loss: 2.349\n",
      "[3,  8000] loss: 2.355\n",
      "[3, 10000] loss: 2.420\n",
      "[3, 12000] loss: 2.453\n",
      "[4,  2000] loss: 2.169\n",
      "[4,  4000] loss: 2.239\n",
      "[4,  6000] loss: 2.290\n",
      "[4,  8000] loss: 2.341\n",
      "[4, 10000] loss: 2.371\n",
      "[4, 12000] loss: 2.361\n",
      "[5,  2000] loss: 2.149\n",
      "[5,  4000] loss: 2.225\n",
      "[5,  6000] loss: 2.260\n",
      "[5,  8000] loss: 2.260\n",
      "[5, 10000] loss: 2.353\n",
      "[5, 12000] loss: 2.296\n",
      "[6,  2000] loss: 2.051\n",
      "[6,  4000] loss: 2.157\n",
      "[6,  6000] loss: 2.210\n",
      "[6,  8000] loss: 2.280\n",
      "[6, 10000] loss: 2.281\n",
      "[6, 12000] loss: 2.366\n",
      "[7,  2000] loss: 2.009\n",
      "[7,  4000] loss: 2.077\n",
      "[7,  6000] loss: 2.164\n",
      "[7,  8000] loss: 2.224\n",
      "[7, 10000] loss: 2.272\n",
      "[7, 12000] loss: 2.367\n",
      "[8,  2000] loss: 1.986\n",
      "[8,  4000] loss: 2.104\n",
      "[8,  6000] loss: 2.129\n",
      "[8,  8000] loss: 2.216\n",
      "[8, 10000] loss: 2.216\n",
      "[8, 12000] loss: 2.287\n",
      "[9,  2000] loss: 1.939\n",
      "[9,  4000] loss: 2.034\n",
      "[9,  6000] loss: 2.107\n",
      "[9,  8000] loss: 2.184\n",
      "[9, 10000] loss: 2.236\n",
      "[9, 12000] loss: 2.246\n",
      "[10,  2000] loss: 1.926\n",
      "[10,  4000] loss: 2.010\n",
      "[10,  6000] loss: 2.116\n",
      "[10,  8000] loss: 2.163\n",
      "[10, 10000] loss: 2.206\n",
      "[10, 12000] loss: 2.218\n",
      "Finished Training\n"
     ]
    }
   ],
   "source": [
    "for epoch in range(10):  # loop over the dataset multiple times\n",
    "\n",
    "    running_loss = 0.0\n",
    "    for i, data in enumerate(trainloader, 0):\n",
    "        # get the inputs; data is a list of [inputs, labels]\n",
    "        inputs, labels = data\n",
    "\n",
    "        # zero the parameter gradients\n",
    "        optimizer.zero_grad()\n",
    "\n",
    "        # forward + backward + optimize\n",
    "        outputs = net(inputs)\n",
    "        loss = criterion(outputs, labels)\n",
    "        loss.backward()\n",
    "        optimizer.step()\n",
    "\n",
    "        # print statistics\n",
    "        running_loss += loss.item()\n",
    "        if i % 2000 == 1999:    # print every 2000 mini-batches\n",
    "            print('[%d, %5d] loss: %.3f' %\n",
    "                  (epoch + 1, i + 1, running_loss / 2000))\n",
    "            running_loss = 0.0\n",
    "\n",
    "print('Finished Training')"
   ]
  },
  {
   "cell_type": "code",
   "execution_count": 13,
   "metadata": {},
   "outputs": [],
   "source": [
    "PATH = './cifar(100)_net.pth'\n",
    "torch.save(net.state_dict(), PATH)"
   ]
  },
  {
   "cell_type": "code",
   "execution_count": 14,
   "metadata": {},
   "outputs": [
    {
     "data": {
      "image/png": "[encoded data removed]",
      "text/plain": [
       "<Figure size 432x288 with 1 Axes>"
      ]
     },
     "metadata": {
      "needs_background": "light"
     },
     "output_type": "display_data"
    },
    {
     "name": "stdout",
     "output_type": "stream",
     "text": [
      "GroundTruth:  mountain forest  seal mushroom\n"
     ]
    }
   ],
   "source": [
    "dataiter = iter(testloader)\n",
    "images, labels = dataiter.next()\n",
    "\n",
    "# print images\n",
    "imshow(torchvision.utils.make_grid(images))\n",
    "print('GroundTruth: ', ' '.join('%5s' % mapp[labels[j].item()] for j in range(4)))"
   ]
  },
  {
   "cell_type": "code",
   "execution_count": 15,
   "metadata": {},
   "outputs": [
    {
     "data": {
      "text/plain": [
       "<All keys matched successfully>"
      ]
     },
     "execution_count": 15,
     "metadata": {},
     "output_type": "execute_result"
    }
   ],
   "source": [
    "net.load_state_dict(torch.load(PATH))"
   ]
  },
  {
   "cell_type": "code",
   "execution_count": 16,
   "metadata": {},
   "outputs": [],
   "source": [
    "outputs = net(images)"
   ]
  },
  {
   "cell_type": "code",
   "execution_count": 17,
   "metadata": {},
   "outputs": [
    {
     "name": "stdout",
     "output_type": "stream",
     "text": [
      "Predicted:  rocket palm_tree dinosaur mouse\n"
     ]
    }
   ],
   "source": [
    "_, predicted = torch.max(outputs, 1)\n",
    "\n",
    "print('Predicted: ', ' '.join('%5s' % classes[predicted[j]]\n",
    "                              for j in range(4)))"
   ]
  },
  {
   "cell_type": "markdown",
   "metadata": {},
   "source": [
    "# 来看看结果"
   ]
  },
  {
   "cell_type": "code",
   "execution_count": 18,
   "metadata": {},
   "outputs": [
    {
     "name": "stdout",
     "output_type": "stream",
     "text": [
      "Accuracy of the network on the 10000 test images: 24 %\n"
     ]
    }
   ],
   "source": [
    "correct = 0\n",
    "total = 0\n",
    "with torch.no_grad():\n",
    "    for data in testloader:\n",
    "        images, labels = data\n",
    "        outputs = net(images)\n",
    "        _, predicted = torch.max(outputs.data, 1)\n",
    "        total += labels.size(0)\n",
    "        correct += (predicted == labels).sum().item()\n",
    "\n",
    "print('Accuracy of the network on the 10000 test images: %d %%' % (\n",
    "    100 * correct / total))"
   ]
  },
  {
   "cell_type": "code",
   "execution_count": 19,
   "metadata": {},
   "outputs": [
    {
     "name": "stdout",
     "output_type": "stream",
     "text": [
      "Accuracy of apple : 64 %\n",
      "Accuracy of aquarium_fish : 25 %\n",
      "Accuracy of  baby : 19 %\n",
      "Accuracy of  bear : 12 %\n",
      "Accuracy of beaver :  6 %\n",
      "Accuracy of   bed : 22 %\n",
      "Accuracy of   bee : 11 %\n",
      "Accuracy of beetle : 27 %\n",
      "Accuracy of bicycle : 29 %\n",
      "Accuracy of bottle : 38 %\n",
      "Accuracy of  bowl : 11 %\n",
      "Accuracy of   boy : 13 %\n",
      "Accuracy of bridge : 31 %\n",
      "Accuracy of   bus :  6 %\n",
      "Accuracy of butterfly : 23 %\n",
      "Accuracy of camel : 19 %\n",
      "Accuracy of   can : 23 %\n",
      "Accuracy of castle : 46 %\n",
      "Accuracy of caterpillar : 25 %\n",
      "Accuracy of cattle : 14 %\n",
      "Accuracy of chair : 57 %\n",
      "Accuracy of chimpanzee : 33 %\n",
      "Accuracy of clock : 15 %\n",
      "Accuracy of cloud : 28 %\n",
      "Accuracy of cockroach : 55 %\n",
      "Accuracy of couch : 17 %\n",
      "Accuracy of  crab : 16 %\n",
      "Accuracy of crocodile : 21 %\n",
      "Accuracy of   cup : 42 %\n",
      "Accuracy of dinosaur : 33 %\n",
      "Accuracy of dolphin : 26 %\n",
      "Accuracy of elephant : 22 %\n",
      "Accuracy of flatfish : 26 %\n",
      "Accuracy of forest : 21 %\n",
      "Accuracy of   fox : 34 %\n",
      "Accuracy of  girl :  2 %\n",
      "Accuracy of hamster : 22 %\n",
      "Accuracy of house :  7 %\n",
      "Accuracy of kangaroo : 13 %\n",
      "Accuracy of keyboard : 35 %\n",
      "Accuracy of  lamp : 19 %\n",
      "Accuracy of lawn_mower : 49 %\n",
      "Accuracy of leopard : 20 %\n",
      "Accuracy of  lion : 31 %\n",
      "Accuracy of lizard :  5 %\n",
      "Accuracy of lobster : 15 %\n",
      "Accuracy of   man : 12 %\n",
      "Accuracy of maple_tree : 38 %\n",
      "Accuracy of motorcycle : 35 %\n",
      "Accuracy of mountain : 21 %\n",
      "Accuracy of mouse :  4 %\n",
      "Accuracy of mushroom :  6 %\n",
      "Accuracy of oak_tree : 56 %\n",
      "Accuracy of orange : 42 %\n",
      "Accuracy of orchid : 12 %\n",
      "Accuracy of otter :  5 %\n",
      "Accuracy of palm_tree : 20 %\n",
      "Accuracy of  pear : 23 %\n",
      "Accuracy of pickup_truck : 20 %\n",
      "Accuracy of pine_tree : 23 %\n",
      "Accuracy of plain : 78 %\n",
      "Accuracy of plate : 21 %\n",
      "Accuracy of poppy : 30 %\n",
      "Accuracy of porcupine : 28 %\n",
      "Accuracy of possum :  4 %\n",
      "Accuracy of rabbit : 10 %\n",
      "Accuracy of raccoon : 15 %\n",
      "Accuracy of   ray : 12 %\n",
      "Accuracy of  road : 43 %\n",
      "Accuracy of rocket : 42 %\n",
      "Accuracy of  rose : 20 %\n",
      "Accuracy of   sea : 28 %\n",
      "Accuracy of  seal :  2 %\n",
      "Accuracy of shark : 30 %\n",
      "Accuracy of shrew : 13 %\n",
      "Accuracy of skunk : 48 %\n",
      "Accuracy of skyscraper : 40 %\n",
      "Accuracy of snail : 26 %\n",
      "Accuracy of snake :  6 %\n",
      "Accuracy of spider : 20 %\n",
      "Accuracy of squirrel :  7 %\n",
      "Accuracy of streetcar : 30 %\n",
      "Accuracy of sunflower : 69 %\n",
      "Accuracy of sweet_pepper :  5 %\n",
      "Accuracy of table :  9 %\n",
      "Accuracy of  tank : 43 %\n",
      "Accuracy of telephone : 37 %\n",
      "Accuracy of television : 25 %\n",
      "Accuracy of tiger : 12 %\n",
      "Accuracy of tractor : 16 %\n",
      "Accuracy of train : 21 %\n",
      "Accuracy of trout : 33 %\n",
      "Accuracy of tulip :  5 %\n",
      "Accuracy of turtle : 13 %\n",
      "Accuracy of wardrobe : 48 %\n",
      "Accuracy of whale : 40 %\n",
      "Accuracy of willow_tree : 32 %\n",
      "Accuracy of  wolf : 31 %\n",
      "Accuracy of woman :  4 %\n",
      "Accuracy of  worm :  8 %\n"
     ]
    }
   ],
   "source": [
    "class_correct = list(0. for i in range(100))\n",
    "class_total = list(0. for i in range(100))\n",
    "with torch.no_grad():\n",
    "    for data in testloader:\n",
    "        images, labels = data\n",
    "        outputs = net(images)\n",
    "        _, predicted = torch.max(outputs, 1)\n",
    "        c = (predicted == labels).squeeze()\n",
    "        for i in range(4):\n",
    "            label = labels[i]\n",
    "            class_correct[label] += c[i].item()\n",
    "            class_total[label] += 1\n",
    "\n",
    "\n",
    "for i in range(100):\n",
    "    print('Accuracy of %5s : %2d %%' % (\n",
    "        classes[i], 100 * class_correct[i] / class_total[i]))"
   ]
  },
  {
   "cell_type": "markdown",
   "metadata": {},
   "source": [
    "**不太行，得加强啦！**"
   ]
  },
  {
   "cell_type": "markdown",
   "metadata": {},
   "source": [
    "# 看看计算设备\n",
    "\n",
    "**如果你用了GPU计算，则会显示cuda:0**  \n",
    "**否则会显示cpu**"
   ]
  },
  {
   "cell_type": "code",
   "execution_count": 21,
   "metadata": {},
   "outputs": [
    {
     "name": "stdout",
     "output_type": "stream",
     "text": [
      "cpu\n"
     ]
    }
   ],
   "source": [
    "device = torch.device(\"cuda:0\" if torch.cuda.is_available() else \"cpu\")\n",
    "\n",
    "# Assuming that we are on a CUDA machine, this should print a CUDA device:\n",
    "\n",
    "print(device)"
   ]
  },
  {
   "cell_type": "code",
   "execution_count": null,
   "metadata": {},
   "outputs": [],
   "source": []
  }
 ],
 "metadata": {
  "kernelspec": {
   "display_name": "Python 3",
   "language": "python",
   "name": "python3"
  },
  "language_info": {
   "codemirror_mode": {
    "name": "ipython",
    "version": 3
   },
   "file_extension": ".py",
   "mimetype": "text/x-python",
   "name": "python",
   "nbconvert_exporter": "python",
   "pygments_lexer": "ipython3",
   "version": "3.7.3"
  },
  "pycharm": {
   "stem_cell": {
    "cell_type": "raw",
    "metadata": {
     "collapsed": false
    },
    "source": []
   }
  }
 },
 "nbformat": 4,
 "nbformat_minor": 2
}
