{
 "cells": [
  {
   "cell_type": "code",
   "execution_count": 1,
   "metadata": {},
   "outputs": [],
   "source": [
    "%matplotlib inline\n",
    "import torch\n",
    "import torchvision\n",
    "import torchvision.transforms as transforms"
   ]
  },
  {
   "cell_type": "markdown",
   "metadata": {},
   "source": [
    "**参考：https://pytorch.org/tutorials/beginner/blitz/cifar10_tutorial.html**"
   ]
  },
  {
   "cell_type": "markdown",
   "metadata": {},
   "source": [
    "# 使用pytorch内置的方法可以导入cifar10数据集\n",
    "\n",
    "**记得设置好下载路径**  \n",
    "**开VPN连接美国、加拿大节点更佳**"
   ]
  },
  {
   "cell_type": "markdown",
   "metadata": {},
   "source": [
    "**Windows版本的pytorch在此处可能会出现报错。**    \n",
    "**把num_workers 改成0 就行了。**"
   ]
  },
  {
   "cell_type": "code",
   "execution_count": 2,
   "metadata": {},
   "outputs": [
    {
     "name": "stdout",
     "output_type": "stream",
     "text": [
      "Files already downloaded and verified\n",
      "Files already downloaded and verified\n"
     ]
    }
   ],
   "source": [
    "transform = transforms.Compose(\n",
    "    [transforms.ToTensor(),\n",
    "     transforms.Normalize((0.5, 0.5, 0.5), (0.5, 0.5, 0.5))])\n",
    "\n",
    "trainset = torchvision.datasets.CIFAR10(root='./data', train=True,\n",
    "                                        download=True, transform=transform)\n",
    "trainloader = torch.utils.data.DataLoader(trainset, batch_size=4,\n",
    "                                          shuffle=True, num_workers=2)\n",
    "\n",
    "testset = torchvision.datasets.CIFAR10(root='./data', train=False,\n",
    "                                       download=True, transform=transform)\n",
    "testloader = torch.utils.data.DataLoader(testset, batch_size=4,\n",
    "                                         shuffle=False, num_workers=2)\n",
    "\n",
    "classes = ('plane', 'car', 'bird', 'cat',\n",
    "           'deer', 'dog', 'frog', 'horse', 'ship', 'truck')"
   ]
  },
  {
   "cell_type": "markdown",
   "metadata": {},
   "source": [
    "# 熟悉数据集\n",
    "\n",
    "**放出一部分图片和对应的标签**  \n",
    "**图片十分模糊，我的天！**"
   ]
  },
  {
   "cell_type": "code",
   "execution_count": 3,
   "metadata": {},
   "outputs": [
    {
     "data": {
      "image/png": "[encoded data removed]",
      "text/plain": [
       "<Figure size 432x288 with 1 Axes>"
      ]
     },
     "metadata": {
      "needs_background": "light"
     },
     "output_type": "display_data"
    },
    {
     "name": "stdout",
     "output_type": "stream",
     "text": [
      "plane  frog  deer   cat\n"
     ]
    }
   ],
   "source": [
    "import matplotlib.pyplot as plt\n",
    "import numpy as np\n",
    "\n",
    "# functions to show an image\n",
    "\n",
    "\n",
    "def imshow(img):\n",
    "    img = img / 2 + 0.5     # unnormalize\n",
    "    npimg = img.numpy()\n",
    "    plt.imshow(np.transpose(npimg, (1, 2, 0)))\n",
    "    plt.show()\n",
    "\n",
    "\n",
    "# get some random training images\n",
    "dataiter = iter(trainloader)\n",
    "images, labels = dataiter.next()\n",
    "\n",
    "# show images\n",
    "imshow(torchvision.utils.make_grid(images))\n",
    "# print labels\n",
    "print(' '.join('%5s' % classes[labels[j]] for j in range(4)))"
   ]
  },
  {
   "cell_type": "markdown",
   "metadata": {},
   "source": [
    "# 建立自己的神经网络\n",
    "\n",
    "**我在基础之上增加了线性层**"
   ]
  },
  {
   "cell_type": "code",
   "execution_count": 4,
   "metadata": {},
   "outputs": [],
   "source": [
    "import torch.nn as nn\n",
    "import torch.nn.functional as F\n",
    "\n",
    "\n",
    "class Net(nn.Module):\n",
    "    '''\n",
    "    本神经网络总共进行两次卷积、两次池化和五次线性操作\n",
    "    在原有的神经网络的基础上增加了两层线性层\n",
    "    '''\n",
    "    def __init__(self):\n",
    "        super(Net, self).__init__()\n",
    "        self.conv1 = nn.Conv2d(3, 6, 5)\n",
    "        self.pool = nn.MaxPool2d(2, 2)\n",
    "        self.conv2 = nn.Conv2d(6, 16, 5)\n",
    "        self.fc1 = nn.Linear(16 * 5 * 5, 120)\n",
    "        self.fc2 = nn.Linear(120, 84)\n",
    "        self.fc3 = nn.Linear(84, 64)\n",
    "        self.fc4 = nn.Linear(64, 32)\n",
    "        self.fc5 = nn.Linear(32, 10)\n",
    "\n",
    "    def forward(self, x):\n",
    "        x = self.pool(F.relu(self.conv1(x)))\n",
    "        x = self.pool(F.relu(self.conv2(x)))\n",
    "        x = x.view(-1, 16 * 5 * 5)\n",
    "        x = F.relu(self.fc1(x))\n",
    "        x = F.relu(self.fc2(x))\n",
    "        x = F.relu(self.fc3(x))\n",
    "        x = F.relu(self.fc4(x))\n",
    "        x = self.fc5(x)\n",
    "        return x\n",
    "\n",
    "\n",
    "net = Net()"
   ]
  },
  {
   "cell_type": "markdown",
   "metadata": {},
   "source": [
    "**来看看神经网络的结构**"
   ]
  },
  {
   "cell_type": "code",
   "execution_count": 5,
   "metadata": {},
   "outputs": [
    {
     "name": "stdout",
     "output_type": "stream",
     "text": [
      "Net(\n",
      "  (conv1): Conv2d(3, 6, kernel_size=(5, 5), stride=(1, 1))\n",
      "  (pool): MaxPool2d(kernel_size=2, stride=2, padding=0, dilation=1, ceil_mode=False)\n",
      "  (conv2): Conv2d(6, 16, kernel_size=(5, 5), stride=(1, 1))\n",
      "  (fc1): Linear(in_features=400, out_features=120, bias=True)\n",
      "  (fc2): Linear(in_features=120, out_features=84, bias=True)\n",
      "  (fc3): Linear(in_features=84, out_features=64, bias=True)\n",
      "  (fc4): Linear(in_features=64, out_features=32, bias=True)\n",
      "  (fc5): Linear(in_features=32, out_features=10, bias=True)\n",
      ")\n"
     ]
    }
   ],
   "source": [
    "print(net)"
   ]
  },
  {
   "cell_type": "markdown",
   "metadata": {},
   "source": [
    "**来看看神经网络的输入参数——这一步很重要！**"
   ]
  },
  {
   "cell_type": "code",
   "execution_count": 6,
   "metadata": {},
   "outputs": [
    {
     "name": "stdout",
     "output_type": "stream",
     "text": [
      "14\n",
      "torch.Size([6, 3, 5, 5])\n"
     ]
    }
   ],
   "source": [
    "params = list(net.parameters())\n",
    "print(len(params))\n",
    "print(params[0].size())"
   ]
  },
  {
   "cell_type": "markdown",
   "metadata": {},
   "source": [
    "**定义损失函数**"
   ]
  },
  {
   "cell_type": "code",
   "execution_count": 7,
   "metadata": {},
   "outputs": [],
   "source": [
    "import torch.optim as optim\n",
    "\n",
    "criterion = nn.CrossEntropyLoss()\n",
    "optimizer = optim.SGD(net.parameters(), lr=0.001, momentum=0.9)"
   ]
  },
  {
   "cell_type": "markdown",
   "metadata": {},
   "source": [
    "# 训练开始！\n",
    "\n",
    "**epoch为训练轮数。如果训练轮数太小，可能结果会很不准确。**"
   ]
  },
  {
   "cell_type": "code",
   "execution_count": 8,
   "metadata": {},
   "outputs": [
    {
     "name": "stdout",
     "output_type": "stream",
     "text": [
      "[1,  2000] loss: 2.304\n",
      "[1,  4000] loss: 2.303\n",
      "[1,  6000] loss: 2.300\n",
      "[1,  8000] loss: 2.193\n",
      "[1, 10000] loss: 1.920\n",
      "[1, 12000] loss: 1.761\n",
      "[2,  2000] loss: 1.636\n",
      "[2,  4000] loss: 1.562\n",
      "[2,  6000] loss: 1.527\n",
      "[2,  8000] loss: 1.492\n",
      "[2, 10000] loss: 1.435\n",
      "[2, 12000] loss: 1.444\n",
      "[3,  2000] loss: 1.363\n",
      "[3,  4000] loss: 1.352\n",
      "[3,  6000] loss: 1.336\n",
      "[3,  8000] loss: 1.313\n",
      "[3, 10000] loss: 1.312\n",
      "[3, 12000] loss: 1.308\n",
      "[4,  2000] loss: 1.220\n",
      "[4,  4000] loss: 1.264\n",
      "[4,  6000] loss: 1.227\n",
      "[4,  8000] loss: 1.228\n",
      "[4, 10000] loss: 1.196\n",
      "[4, 12000] loss: 1.211\n",
      "[5,  2000] loss: 1.154\n",
      "[5,  4000] loss: 1.153\n",
      "[5,  6000] loss: 1.164\n",
      "[5,  8000] loss: 1.143\n",
      "[5, 10000] loss: 1.135\n",
      "[5, 12000] loss: 1.135\n",
      "[6,  2000] loss: 1.059\n",
      "[6,  4000] loss: 1.081\n",
      "[6,  6000] loss: 1.079\n",
      "[6,  8000] loss: 1.090\n",
      "[6, 10000] loss: 1.103\n",
      "[6, 12000] loss: 1.066\n",
      "[7,  2000] loss: 1.012\n",
      "[7,  4000] loss: 1.029\n",
      "[7,  6000] loss: 1.031\n",
      "[7,  8000] loss: 1.022\n",
      "[7, 10000] loss: 1.037\n",
      "[7, 12000] loss: 1.028\n",
      "[8,  2000] loss: 0.952\n",
      "[8,  4000] loss: 0.962\n",
      "[8,  6000] loss: 0.975\n",
      "[8,  8000] loss: 0.973\n",
      "[8, 10000] loss: 0.988\n",
      "[8, 12000] loss: 1.008\n",
      "[9,  2000] loss: 0.902\n",
      "[9,  4000] loss: 0.934\n",
      "[9,  6000] loss: 0.930\n",
      "[9,  8000] loss: 0.946\n",
      "[9, 10000] loss: 0.939\n",
      "[9, 12000] loss: 0.971\n",
      "[10,  2000] loss: 0.876\n",
      "[10,  4000] loss: 0.873\n",
      "[10,  6000] loss: 0.918\n",
      "[10,  8000] loss: 0.898\n",
      "[10, 10000] loss: 0.927\n",
      "[10, 12000] loss: 0.906\n",
      "Finished Training\n"
     ]
    }
   ],
   "source": [
    "for epoch in range(10):  # loop over the dataset multiple times\n",
    "\n",
    "    running_loss = 0.0\n",
    "    for i, data in enumerate(trainloader, 0):\n",
    "        # get the inputs; data is a list of [inputs, labels]\n",
    "        inputs, labels = data\n",
    "\n",
    "        # zero the parameter gradients\n",
    "        optimizer.zero_grad()\n",
    "\n",
    "        # forward + backward + optimize\n",
    "        outputs = net(inputs)\n",
    "        loss = criterion(outputs, labels)\n",
    "        loss.backward()\n",
    "        optimizer.step()\n",
    "\n",
    "        # print statistics\n",
    "        running_loss += loss.item()\n",
    "        if i % 2000 == 1999:    # print every 2000 mini-batches\n",
    "            print('[%d, %5d] loss: %.3f' %\n",
    "                  (epoch + 1, i + 1, running_loss / 2000))\n",
    "            running_loss = 0.0\n",
    "\n",
    "print('Finished Training')"
   ]
  },
  {
   "cell_type": "markdown",
   "metadata": {},
   "source": [
    "**保存模型**"
   ]
  },
  {
   "cell_type": "code",
   "execution_count": 10,
   "metadata": {},
   "outputs": [],
   "source": [
    "PATH = './cifar(10)_net.pth'\n",
    "torch.save(net.state_dict(), PATH)"
   ]
  },
  {
   "cell_type": "code",
   "execution_count": 11,
   "metadata": {},
   "outputs": [
    {
     "data": {
      "text/plain": [
       "<All keys matched successfully>"
      ]
     },
     "execution_count": 11,
     "metadata": {},
     "output_type": "execute_result"
    }
   ],
   "source": [
    "net.load_state_dict(torch.load(PATH))"
   ]
  },
  {
   "cell_type": "markdown",
   "metadata": {},
   "source": [
    "**恭喜你！模型保存成功**"
   ]
  },
  {
   "cell_type": "markdown",
   "metadata": {},
   "source": [
    "# 来看看我们这个模型的训练结果\n",
    "\n",
    "**分别计算总准确度，和每一个class的准确度**"
   ]
  },
  {
   "cell_type": "code",
   "execution_count": 12,
   "metadata": {},
   "outputs": [
    {
     "name": "stdout",
     "output_type": "stream",
     "text": [
      "Accuracy of the network on the 10000 test images: 62 %\n"
     ]
    }
   ],
   "source": [
    "correct = 0\n",
    "total = 0\n",
    "with torch.no_grad():\n",
    "    for data in testloader:\n",
    "        images, labels = data\n",
    "        outputs = net(images)\n",
    "        _, predicted = torch.max(outputs.data, 1)\n",
    "        total += labels.size(0)\n",
    "        correct += (predicted == labels).sum().item()\n",
    "\n",
    "print('Accuracy of the network on the 10000 test images: %d %%' % (\n",
    "    100 * correct / total))"
   ]
  },
  {
   "cell_type": "code",
   "execution_count": 13,
   "metadata": {},
   "outputs": [
    {
     "name": "stdout",
     "output_type": "stream",
     "text": [
      "Accuracy of plane : 71 %\n",
      "Accuracy of   car : 77 %\n",
      "Accuracy of  bird : 48 %\n",
      "Accuracy of   cat : 42 %\n",
      "Accuracy of  deer : 49 %\n",
      "Accuracy of   dog : 52 %\n",
      "Accuracy of  frog : 73 %\n",
      "Accuracy of horse : 67 %\n",
      "Accuracy of  ship : 72 %\n",
      "Accuracy of truck : 65 %\n"
     ]
    }
   ],
   "source": [
    "class_correct = list(0. for i in range(100))\n",
    "class_total = list(0. for i in range(100))\n",
    "with torch.no_grad():\n",
    "    for data in testloader:\n",
    "        images, labels = data\n",
    "        outputs = net(images)\n",
    "        _, predicted = torch.max(outputs, 1)\n",
    "        c = (predicted == labels).squeeze()\n",
    "        for i in range(4):\n",
    "            label = labels[i]\n",
    "            class_correct[label] += c[i].item()\n",
    "            class_total[label] += 1\n",
    "\n",
    "\n",
    "for i in range(10):\n",
    "    print('Accuracy of %5s : %2d %%' % (\n",
    "        classes[i], 100 * class_correct[i] / class_total[i]))"
   ]
  },
  {
   "cell_type": "markdown",
   "metadata": {},
   "source": [
    "**这是一个差强人意的模型，准确度太低了！**"
   ]
  },
  {
   "cell_type": "code",
   "execution_count": 15,
   "metadata": {},
   "outputs": [],
   "source": [
    "class Net2(nn.Module):\n",
    "    '''\n",
    "    定义一个新的神经网络\n",
    "    改变了卷积层的参数，增加了宽度\n",
    "    '''\n",
    "    def __init__(self):\n",
    "        super(Net2, self).__init__()\n",
    "        self.conv1 = nn.Conv2d(3, 12, 5) # change the 2nd parameter\n",
    "        self.pool = nn.MaxPool2d(2, 2)\n",
    "        self.conv2 = nn.Conv2d(12, 16, 5) # Remenber to change the 1st parameter!\n",
    "        self.fc1 = nn.Linear(16 * 5 * 5, 120)\n",
    "        self.fc2 = nn.Linear(120, 84)\n",
    "        self.fc3 = nn.Linear(84, 64)\n",
    "        self.fc4 = nn.Linear(64, 32)\n",
    "        self.fc5 = nn.Linear(32, 10)\n",
    "\n",
    "    def forward(self, x):\n",
    "        x = self.pool(F.relu(self.conv1(x)))\n",
    "        x = self.pool(F.relu(self.conv2(x)))\n",
    "        x = x.view(-1, 16 * 5 * 5)\n",
    "        x = F.relu(self.fc1(x))\n",
    "        x = F.relu(self.fc2(x))\n",
    "        x = F.relu(self.fc3(x))\n",
    "        x = F.relu(self.fc4(x))\n",
    "        x = self.fc5(x)\n",
    "        return x\n",
    "\n",
    "net2 = Net2()"
   ]
  },
  {
   "cell_type": "code",
   "execution_count": 16,
   "metadata": {},
   "outputs": [
    {
     "name": "stdout",
     "output_type": "stream",
     "text": [
      "[1,  2000] loss: 2.309\n",
      "[1,  4000] loss: 2.308\n",
      "[1,  6000] loss: 2.308\n",
      "[1,  8000] loss: 2.308\n",
      "[1, 10000] loss: 2.308\n",
      "[1, 12000] loss: 2.308\n",
      "[2,  2000] loss: 2.311\n",
      "[2,  4000] loss: 2.308\n",
      "[2,  6000] loss: 2.306\n",
      "[2,  8000] loss: 2.308\n",
      "[2, 10000] loss: 2.308\n",
      "[2, 12000] loss: 2.308\n",
      "[3,  2000] loss: 2.309\n",
      "[3,  4000] loss: 2.307\n",
      "[3,  6000] loss: 2.309\n",
      "[3,  8000] loss: 2.309\n",
      "[3, 10000] loss: 2.306\n",
      "[3, 12000] loss: 2.308\n",
      "[4,  2000] loss: 2.308\n",
      "[4,  4000] loss: 2.308\n",
      "[4,  6000] loss: 2.308\n",
      "[4,  8000] loss: 2.308\n",
      "[4, 10000] loss: 2.308\n",
      "[4, 12000] loss: 2.308\n",
      "[5,  2000] loss: 2.308\n",
      "[5,  4000] loss: 2.307\n",
      "[5,  6000] loss: 2.308\n",
      "[5,  8000] loss: 2.307\n",
      "[5, 10000] loss: 2.311\n",
      "[5, 12000] loss: 2.308\n",
      "[6,  2000] loss: 2.307\n",
      "[6,  4000] loss: 2.309\n",
      "[6,  6000] loss: 2.308\n",
      "[6,  8000] loss: 2.306\n",
      "[6, 10000] loss: 2.309\n",
      "[6, 12000] loss: 2.309\n",
      "[7,  2000] loss: 2.309\n",
      "[7,  4000] loss: 2.309\n",
      "[7,  6000] loss: 2.308\n",
      "[7,  8000] loss: 2.306\n",
      "[7, 10000] loss: 2.310\n",
      "[7, 12000] loss: 2.307\n",
      "[8,  2000] loss: 2.308\n",
      "[8,  4000] loss: 2.310\n",
      "[8,  6000] loss: 2.308\n",
      "[8,  8000] loss: 2.307\n",
      "[8, 10000] loss: 2.307\n",
      "[8, 12000] loss: 2.309\n",
      "[9,  2000] loss: 2.309\n",
      "[9,  4000] loss: 2.309\n",
      "[9,  6000] loss: 2.308\n",
      "[9,  8000] loss: 2.309\n",
      "[9, 10000] loss: 2.305\n",
      "[9, 12000] loss: 2.308\n",
      "[10,  2000] loss: 2.307\n",
      "[10,  4000] loss: 2.309\n",
      "[10,  6000] loss: 2.309\n",
      "[10,  8000] loss: 2.309\n",
      "[10, 10000] loss: 2.307\n",
      "[10, 12000] loss: 2.308\n",
      "Finished Training\n"
     ]
    }
   ],
   "source": [
    "for epoch in range(10):  # loop over the dataset multiple times\n",
    "\n",
    "    running_loss = 0.0\n",
    "    for i, data in enumerate(trainloader, 0):\n",
    "        # get the inputs; data is a list of [inputs, labels]\n",
    "        inputs, labels = data\n",
    "\n",
    "        # zero the parameter gradients\n",
    "        optimizer.zero_grad()\n",
    "\n",
    "        # forward + backward + optimize\n",
    "        outputs = net2(inputs)\n",
    "        loss = criterion(outputs, labels)\n",
    "        loss.backward()\n",
    "        optimizer.step()\n",
    "\n",
    "        # print statistics\n",
    "        running_loss += loss.item()\n",
    "        if i % 2000 == 1999:    # print every 2000 mini-batches\n",
    "            print('[%d, %5d] loss: %.3f' %\n",
    "                  (epoch + 1, i + 1, running_loss / 2000))\n",
    "            running_loss = 0.0\n",
    "\n",
    "print('Finished Training')"
   ]
  },
  {
   "cell_type": "code",
   "execution_count": 17,
   "metadata": {},
   "outputs": [],
   "source": [
    "PATH = './cifar(10)_net.pth'\n",
    "torch.save(net2.state_dict(), PATH)"
   ]
  },
  {
   "cell_type": "code",
   "execution_count": 18,
   "metadata": {},
   "outputs": [
    {
     "data": {
      "text/plain": [
       "<All keys matched successfully>"
      ]
     },
     "execution_count": 18,
     "metadata": {},
     "output_type": "execute_result"
    }
   ],
   "source": [
    "net2.load_state_dict(torch.load(PATH))"
   ]
  },
  {
   "cell_type": "markdown",
   "metadata": {},
   "source": [
    "**现在我们的模型里面保存了第二次训练得到的模型结果**"
   ]
  },
  {
   "cell_type": "code",
   "execution_count": 19,
   "metadata": {},
   "outputs": [
    {
     "name": "stdout",
     "output_type": "stream",
     "text": [
      "Accuracy of the network on the 10000 test images: 10 %\n"
     ]
    }
   ],
   "source": [
    "correct = 0\n",
    "total = 0\n",
    "with torch.no_grad():\n",
    "    for data in testloader:\n",
    "        images, labels = data\n",
    "        outputs = net2(images)\n",
    "        _, predicted = torch.max(outputs.data, 1)\n",
    "        total += labels.size(0)\n",
    "        correct += (predicted == labels).sum().item()\n",
    "\n",
    "print('Accuracy of the network on the 10000 test images: %d %%' % (\n",
    "    100 * correct / total))"
   ]
  },
  {
   "cell_type": "markdown",
   "metadata": {},
   "source": [
    "**我的天！比第一次低了好多！太吓人了！**"
   ]
  },
  {
   "cell_type": "markdown",
   "metadata": {},
   "source": [
    "# 试一试：\n",
    "\n",
    "**改变卷积层的宽度，或者增加线性层。**  \n",
    "**一般来说神经网络越复杂越需要更多轮次的训练。如果增加了线性层，记得适当增加训练轮数**"
   ]
  },
  {
   "cell_type": "code",
   "execution_count": null,
   "metadata": {},
   "outputs": [],
   "source": []
  }
 ],
 "metadata": {
  "kernelspec": {
   "display_name": "Python [conda env:root] *",
   "language": "python",
   "name": "conda-root-py"
  },
  "language_info": {
   "codemirror_mode": {
    "name": "ipython",
    "version": 3
   },
   "file_extension": ".py",
   "mimetype": "text/x-python",
   "name": "python",
   "nbconvert_exporter": "python",
   "pygments_lexer": "ipython3",
   "version": "3.7.3"
  }
 },
 "nbformat": 4,
 "nbformat_minor": 2
}
